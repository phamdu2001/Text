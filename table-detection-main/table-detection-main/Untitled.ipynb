{
 "cells": [
  {
   "cell_type": "code",
   "execution_count": 71,
   "id": "7b3b752b",
   "metadata": {},
   "outputs": [
    {
     "data": {
      "text/plain": [
       "-1"
      ]
     },
     "execution_count": 71,
     "metadata": {},
     "output_type": "execute_result"
    }
   ],
   "source": [
    "import cv2\n",
    "import numpy as np\n",
    "\n",
    "img = cv2.imread(\"forms//49553.png\")\n",
    "img_gray = cv2.cvtColor(img, cv2.COLOR_BGR2GRAY)\n",
    "(thresh, img_bin) = cv2.threshold(img_gray, 188, 255, cv2.THRESH_BINARY | cv2.THRESH_OTSU)\n",
    "img_bin = cv2.bitwise_not(img_bin)\n",
    "\n",
    "def remote_line(img,t=0):\n",
    "#     img_gray = cv2.cvtColor(img, cv2.COLOR_BGR2GRAY)\n",
    "    (thresh, img_bin) = cv2.threshold(img_gray, 188, 255, cv2.THRESH_BINARY | cv2.THRESH_OTSU)\n",
    "    img_bin = cv2.bitwise_not(img_bin)\n",
    "    edges = cv2.Canny(img_bin,30,150,apertureSize = 3)\n",
    "    if t == 0:\n",
    "        lines = cv2.HoughLines(edges,1,np.pi/180,250)\n",
    "        for i in range(len(lines)):\n",
    "            for rho,theta in lines[i]:\n",
    "                a = np.cos(theta)\n",
    "                b = np.sin(theta)\n",
    "                x0 = a*rho\n",
    "                y0 = b*rho\n",
    "                x1 = int(x0 + 1000*(-b))\n",
    "                y1 = int(y0 + 1000*(a))\n",
    "                x2 = int(x0 - 1000*(-b))\n",
    "                y2 = int(y0 - 1000*(a))\n",
    "            cv2.line(img_bin,(x1,y1),(x2,y2),(0,0,0),3)\n",
    "        return img_bin\n",
    "        \n",
    "# cv2.imshow(\"img2\",remote_line(img))\n",
    "# cv2.waitKey(0)        \n",
    "\n",
    "img_rl = remote_line(img)\n",
    "kernel = np.ones((12,12), np.uint8)\n",
    "img_dilation = cv2.dilate(img_rl, kernel, iterations=1)\n",
    "img_dilation = cv2.erode(img_dilation, kernel, iterations=1)\n",
    "\n",
    "# cv2.imshow(\"img2\",img_dilation)\n",
    "# cv2.waitKey(0)  \n",
    "\n",
    "# kernel = cv2.getStructuringElement(cv2.MORPH_RECT, (1, 1))\n",
    "# connected = cv2.morphologyEx(img_dilation, cv2.MORPH_CLOSE, kernel)\n",
    "contours, hierarchy = cv2.findContours(image=img_dilation, mode=cv2.RETR_TREE, method=cv2.CHAIN_APPROX_SIMPLE)\n",
    "\n",
    "max_x = 0\n",
    "max_y = 0\n",
    "min_x = 10000\n",
    "min_y = 10000\n",
    "(x,y,_) = img.shape\n",
    "for i in contours:\n",
    "    for j in range(len(i)):\n",
    "        if i[j][0][0] > max_x:\n",
    "            max_x = i[j][0][0]\n",
    "        if i[j][0][0] < min_x:\n",
    "            min_x = i[j][0][0]\n",
    "        if i[j][0][1] > max_y:\n",
    "            max_y = i[j][0][1]\n",
    "        if i[j][0][1] < min_y:\n",
    "            min_y = i[j][0][1]\n",
    "    if((max_x-min_x)*(max_y-min_y)/(x*y)>= 0.7):\n",
    "        max_x = 0\n",
    "        max_y = 0\n",
    "        min_x = 10000\n",
    "        min_y = 10000\n",
    "        continue\n",
    "    img = cv2.rectangle(img, (min_x,min_y), (max_x,max_y), [0,255,0], 1)\n",
    "    max_x = 0\n",
    "    max_y = 0\n",
    "    min_x = 10000\n",
    "    min_y = 10000\n",
    "cv2.imshow(\"img2\",img)\n",
    "cv2.waitKey(0)"
   ]
  },
  {
   "cell_type": "code",
   "execution_count": null,
   "id": "e1c970bd",
   "metadata": {},
   "outputs": [],
   "source": []
  }
 ],
 "metadata": {
  "kernelspec": {
   "display_name": "Python 3",
   "language": "python",
   "name": "python3"
  },
  "language_info": {
   "codemirror_mode": {
    "name": "ipython",
    "version": 3
   },
   "file_extension": ".py",
   "mimetype": "text/x-python",
   "name": "python",
   "nbconvert_exporter": "python",
   "pygments_lexer": "ipython3",
   "version": "3.7.10"
  }
 },
 "nbformat": 4,
 "nbformat_minor": 5
}
