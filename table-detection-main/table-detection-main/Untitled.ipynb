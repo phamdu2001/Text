{
 "cells": [
  {
   "cell_type": "code",
   "execution_count": 25,
   "id": "7b3b752b",
   "metadata": {},
   "outputs": [
    {
     "data": {
      "text/plain": [
       "-1"
      ]
     },
     "execution_count": 25,
     "metadata": {},
     "output_type": "execute_result"
    }
   ],
   "source": [
    "import cv2\n",
    "import numpy as np\n",
    "\n",
    "img = cv2.imread(\"forms//49553.png\")\n",
    "img_gray = cv2.cvtColor(img, cv2.COLOR_BGR2GRAY)\n",
    "(thresh, img_bin) = cv2.threshold(img_gray, 188, 255, cv2.THRESH_BINARY | cv2.THRESH_OTSU)\n",
    "img_bin = cv2.bitwise_not(img_bin)\n",
    "\n",
    "def remote_line(img,t=0):\n",
    "    (thresh, img_bin) = cv2.threshold(img_gray, 188, 255, cv2.THRESH_BINARY | cv2.THRESH_OTSU)\n",
    "    edges = cv2.Canny(img_gray,100,150,apertureSize = 3)\n",
    "    if t == 0:\n",
    "        lines = cv2.HoughLines(edges,1,np.pi/180,120)\n",
    "        for i in range(len(lines)):\n",
    "            for rho,theta in lines[i]:\n",
    "                a = np.cos(theta)\n",
    "                b = np.sin(theta)\n",
    "                x0 = a*rho\n",
    "                y0 = b*rho\n",
    "                x1 = int(x0 + 1000*(-b))\n",
    "                y1 = int(y0 + 1000*(a))\n",
    "                x2 = int(x0 - 1000*(-b))\n",
    "                y2 = int(y0 - 1000*(a))\n",
    "            cv2.line(img,(x1,y1),(x2,y2),(255,255,255),2)\n",
    "        return img\n",
    "        \n",
    "cv2.imshow(\"img2\",remote_line(img))\n",
    "cv2.waitKey(0)        \n",
    "\n",
    "# # img = remote_line(img)\n",
    "# img_rl = remote_line(img_gray)\n",
    "# kernel = np.ones((8,8), np.uint8)\n",
    "# img_dilation = cv2.erode(img_rl, kernel, iterations=1)\n",
    "# img_dilation = cv2.dilate(img_dilation, kernel, iterations=1)\n",
    "# contours, hierarchy = cv2.findContours(image=img_dilation, mode=cv2.RETR_TREE, method=cv2.CHAIN_APPROX_SIMPLE)\n",
    "\n",
    "# max_x = 0\n",
    "# max_y = 0\n",
    "# min_x = 10000\n",
    "# min_y = 10000\n",
    "# (x,y,_) = img.shape\n",
    "# for i in contours:\n",
    "#     for j in range(len(i)):\n",
    "#         if i[j][0][0] > max_x:\n",
    "#             max_x = i[j][0][0]\n",
    "#         if i[j][0][0] < min_x:\n",
    "#             min_x = i[j][0][0]\n",
    "#         if i[j][0][1] > max_y:\n",
    "#             max_y = i[j][0][1]\n",
    "#         if i[j][0][1] < min_y:\n",
    "#             min_y = i[j][0][1]\n",
    "#     if((max_x-min_x)*(max_y-min_y)/(x*y)>= 0.7):\n",
    "#         max_x = 0\n",
    "#         max_y = 0\n",
    "#         min_x = 10000\n",
    "#         min_y = 10000\n",
    "#         continue\n",
    "#     img = cv2.rectangle(img, (min_x,min_y), (max_x,max_y), [0,255,0], 2)\n",
    "#     max_x = 0\n",
    "#     max_y = 0\n",
    "#     min_x = 10000\n",
    "#     min_y = 10000\n",
    "# cv2.imshow(\"img2\",img)\n",
    "# cv2.waitKey(0)"
   ]
  },
  {
   "cell_type": "code",
   "execution_count": 110,
   "id": "be3aff1c",
   "metadata": {},
   "outputs": [
    {
     "ename": "IndentationError",
     "evalue": "unexpected indent (<ipython-input-110-92a4f0f0a07c>, line 3)",
     "output_type": "error",
     "traceback": [
      "\u001b[1;36m  File \u001b[1;32m\"<ipython-input-110-92a4f0f0a07c>\"\u001b[1;36m, line \u001b[1;32m3\u001b[0m\n\u001b[1;33m    for line in lines[0]:\u001b[0m\n\u001b[1;37m    ^\u001b[0m\n\u001b[1;31mIndentationError\u001b[0m\u001b[1;31m:\u001b[0m unexpected indent\n"
     ]
    }
   ],
   "source": [
    "def lines(edges):\n",
    "    lines = cv2.HoughLinesP(edges, 1, np.pi / 2, 6, None, 50, 10)\n",
    "        for line in lines[0]:\n",
    "            pt1 = (line[0], line[1])\n",
    "            pt2 = (line[2], line[3])\n",
    "            cv2.line(edges, pt1, pt2, (0, 0, 255), 2) \n",
    "    cv2.imshow(\"img2\",edges)\n",
    "    cv2.waitKey(0)\n",
    "        \n",
    "lines(edges)"
   ]
  },
  {
   "cell_type": "code",
   "execution_count": 3,
   "id": "204cf5c7",
   "metadata": {},
   "outputs": [
    {
     "data": {
      "text/plain": [
       "-1"
      ]
     },
     "execution_count": 3,
     "metadata": {},
     "output_type": "execute_result"
    }
   ],
   "source": [
    "import cv2\n",
    "import numpy as np\n",
    "\n",
    "large = cv2.imread('forms//49527.png')\n",
    "rgb = cv2.pyrDown(large)\n",
    "small = cv2.cvtColor(rgb, cv2.COLOR_BGR2GRAY)\n",
    "\n",
    "kernel = cv2.getStructuringElement(cv2.MORPH_ELLIPSE, (3, 3))\n",
    "grad = cv2.morphologyEx(small, cv2.MORPH_GRADIENT, kernel)\n",
    "\n",
    "_, bw = cv2.threshold(grad, 0.0, 255.0, cv2.THRESH_BINARY | cv2.THRESH_OTSU)\n",
    "\n",
    "kernel = cv2.getStructuringElement(cv2.MORPH_RECT, (9, 1))\n",
    "connected = cv2.morphologyEx(bw, cv2.MORPH_CLOSE, kernel)\n",
    "# using RETR_EXTERNAL instead of RETR_CCOMP\n",
    "contours, hierarchy = cv2.findContours(connected.copy(), cv2.RETR_EXTERNAL, cv2.CHAIN_APPROX_NONE)\n",
    "#For opencv 3+ comment the previous line and uncomment the following line\n",
    "#_, contours, hierarchy = cv2.findContours(connected.copy(), cv2.RETR_EXTERNAL, cv2.CHAIN_APPROX_NONE)\n",
    "\n",
    "mask = np.zeros(bw.shape, dtype=np.uint8)\n",
    "\n",
    "for idx in range(len(contours)):\n",
    "    x, y, w, h = cv2.boundingRect(contours[idx])\n",
    "    mask[y:y+h, x:x+w] = 0\n",
    "    cv2.drawContours(mask, contours, idx, (255, 255, 255), -1)\n",
    "    r = float(cv2.countNonZero(mask[y:y+h, x:x+w])) / (w * h)\n",
    "\n",
    "    if r > 0.45 and w > 8 and h > 8:\n",
    "        cv2.rectangle(rgb, (x, y), (x+w-1, y+h-1), (0, 255, 0), 2)\n",
    "\n",
    "cv2.imshow('rects', rgb)\n",
    "cv2.waitKey(0)"
   ]
  },
  {
   "cell_type": "code",
   "execution_count": 38,
   "id": "155b1a68",
   "metadata": {},
   "outputs": [
    {
     "data": {
      "text/plain": [
       "-1"
      ]
     },
     "execution_count": 38,
     "metadata": {},
     "output_type": "execute_result"
    }
   ],
   "source": [
    "import cv2\n",
    "import numpy as np\n",
    "\n",
    "img = cv2.imread(\"forms//49527.png\")\n",
    "img_gray = cv2.cvtColor(img, cv2.COLOR_BGR2GRAY)\n",
    "(thresh, img_bin) = cv2.threshold(img_gray, 188, 255, cv2.THRESH_BINARY | cv2.THRESH_OTSU)\n",
    "img_bin = cv2.bitwise_not(img_bin)\n",
    "\n",
    "def remote_line(img,t=0):\n",
    "#     img_gray = cv2.cvtColor(img, cv2.COLOR_BGR2GRAY)\n",
    "    (thresh, img_bin) = cv2.threshold(img_gray, 200, 255, cv2.THRESH_BINARY )\n",
    "    edges = cv2.Canny(img_gray,30,150,apertureSize = 3)\n",
    "    if t == 0:\n",
    "        lines = cv2.HoughLines(edges,1,np.pi/180,180)\n",
    "        for i in range(len(lines)):\n",
    "            for rho,theta in lines[i]:\n",
    "                a = np.cos(theta)\n",
    "                b = np.sin(theta)\n",
    "                x0 = a*rho\n",
    "                y0 = b*rho\n",
    "                x1 = int(x0 + 1000*(-b))\n",
    "                y1 = int(y0 + 1000*(a))\n",
    "                x2 = int(x0 - 1000*(-b))\n",
    "                y2 = int(y0 - 1000*(a))\n",
    "            cv2.line(img_bin,(x1,y1),(x2,y2),(255,255,255),3)\n",
    "        Rres = 20\n",
    "        Thetares = 1*np.pi/180\n",
    "        Threshold = 1\n",
    "        minLineLength = 1\n",
    "        maxLineGap = 100\n",
    "        lines = cv2.HoughLinesP(img_bin,Rres,Thetares,Threshold)\n",
    "        N = lines.shape[0]\n",
    "        for i in range(N):\n",
    "            x1 = lines[i][0][0]\n",
    "            y1 = lines[i][0][1]    \n",
    "            x2 = lines[i][0][2]\n",
    "            y2 = lines[i][0][3]    \n",
    "            cv2.line(img_bin,(x1,y1),(x2,y2),(255,255,255),2)\n",
    "        return img_bin\n",
    "        \n",
    "# img = remote_line(img)\n",
    "img_rl = remote_line(img_gray)\n",
    "kernel = np.ones((3,3), np.uint8)\n",
    "img_dilation = cv2.erode(img_rl, kernel, iterations=1)\n",
    "img_dilation = cv2.dilate(img_dilation, kernel, iterations=1)\n",
    "kernel = cv2.getStructuringElement(cv2.MORPH_RECT, (1, 1))\n",
    "connected = cv2.morphologyEx(img_dilation, cv2.MORPH_CLOSE, kernel)\n",
    "contours, hierarchy = cv2.findContours(image=connected, mode=cv2.RETR_TREE, method=cv2.CHAIN_APPROX_SIMPLE)\n",
    "\n",
    "max_x = 0\n",
    "max_y = 0\n",
    "min_x = 10000\n",
    "min_y = 10000\n",
    "(x,y,_) = img.shape\n",
    "for i in contours:\n",
    "    for j in range(len(i)):\n",
    "        if i[j][0][0] > max_x:\n",
    "            max_x = i[j][0][0]\n",
    "        if i[j][0][0] < min_x:\n",
    "            min_x = i[j][0][0]\n",
    "        if i[j][0][1] > max_y:\n",
    "            max_y = i[j][0][1]\n",
    "        if i[j][0][1] < min_y:\n",
    "            min_y = i[j][0][1]\n",
    "    if((max_x-min_x)*(max_y-min_y)/(x*y)>= 0.7):\n",
    "        max_x = 0\n",
    "        max_y = 0\n",
    "        min_x = 10000\n",
    "        min_y = 10000\n",
    "        continue\n",
    "    img = cv2.rectangle(img, (min_x,min_y), (max_x,max_y), [0,255,0], 2)\n",
    "    max_x = 0\n",
    "    max_y = 0\n",
    "    min_x = 10000\n",
    "    min_y = 10000\n",
    "cv2.imshow(\"img2\",img)\n",
    "cv2.waitKey(0)"
   ]
  },
  {
   "cell_type": "code",
   "execution_count": 16,
   "id": "653324cd",
   "metadata": {},
   "outputs": [
    {
     "data": {
      "text/plain": [
       "-1"
      ]
     },
     "execution_count": 16,
     "metadata": {},
     "output_type": "execute_result"
    }
   ],
   "source": [
    "import cv2\n",
    "import numpy as np\n",
    "\n",
    "rgb = cv2.imread(\"forms//32.png\")\n",
    "small = cv2.cvtColor(rgb, cv2.COLOR_BGR2GRAY)\n",
    "\n",
    "kernel = cv2.getStructuringElement(cv2.MORPH_ELLIPSE, (3, 3))\n",
    "grad = cv2.morphologyEx(small, cv2.MORPH_GRADIENT, kernel)\n",
    "\n",
    "_, bw = cv2.threshold(grad, 0.0, 255.0, cv2.THRESH_BINARY | cv2.THRESH_OTSU)\n",
    "\n",
    "kernel = cv2.getStructuringElement(cv2.MORPH_RECT, (1, 1))\n",
    "connected = cv2.morphologyEx(bw, cv2.MORPH_CLOSE, kernel)\n",
    "# using RETR_EXTERNAL instead of RETR_CCOMP\n",
    "contours, hierarchy = cv2.findContours(connected.copy(), cv2.RETR_EXTERNAL, cv2.CHAIN_APPROX_NONE)\n",
    "#For opencv 3+ comment the previous line and uncomment the following line\n",
    "#_, contours, hierarchy = cv2.findContours(connected.copy(), cv2.RETR_EXTERNAL, cv2.CHAIN_APPROX_NONE)\n",
    "\n",
    "mask = np.zeros(bw.shape, dtype=np.uint8)\n",
    "\n",
    "for idx in range(len(contours)):\n",
    "    x, y, w, h = cv2.boundingRect(contours[idx])\n",
    "    mask[y:y+h, x:x+w] = 0\n",
    "    cv2.drawContours(mask, contours, idx, (255, 255, 255), -1)\n",
    "    r = float(cv2.countNonZero(mask[y:y+h, x:x+w])) / (w * h)\n",
    "\n",
    "    if r > 0.15 and w > 3 and h > 1:\n",
    "        cv2.rectangle(rgb, (x, y), (x+w-1, y+h-1), (0, 255, 0), 2)\n",
    "\n",
    "cv2.imshow('rects', rgb)\n",
    "cv2.waitKey(0)"
   ]
  },
  {
   "cell_type": "code",
   "execution_count": null,
   "id": "22dcf114",
   "metadata": {},
   "outputs": [],
   "source": []
  }
 ],
 "metadata": {
  "kernelspec": {
   "display_name": "Python 3",
   "language": "python",
   "name": "python3"
  },
  "language_info": {
   "codemirror_mode": {
    "name": "ipython",
    "version": 3
   },
   "file_extension": ".py",
   "mimetype": "text/x-python",
   "name": "python",
   "nbconvert_exporter": "python",
   "pygments_lexer": "ipython3",
   "version": "3.7.10"
  }
 },
 "nbformat": 4,
 "nbformat_minor": 5
}
