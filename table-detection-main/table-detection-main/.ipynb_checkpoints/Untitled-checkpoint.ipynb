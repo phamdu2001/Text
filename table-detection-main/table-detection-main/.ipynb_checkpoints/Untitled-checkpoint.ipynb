{
 "cells": [
  {
   "cell_type": "code",
   "execution_count": 217,
   "id": "7b3b752b",
   "metadata": {},
   "outputs": [
    {
     "data": {
      "text/plain": [
       "-1"
      ]
     },
     "execution_count": 217,
     "metadata": {},
     "output_type": "execute_result"
    }
   ],
   "source": [
    "import cv2\n",
    "import numpy as np\n",
    "\n",
    "img = cv2.imread(\"forms//49527.png\")\n",
    "img_gray = cv2.cvtColor(img, cv2.COLOR_BGR2GRAY)\n",
    "(thresh, img_bin) = cv2.threshold(img_gray, 188, 255, cv2.THRESH_BINARY | cv2.THRESH_OTSU)\n",
    "img_bin = cv2.bitwise_not(img_bin)\n",
    "\n",
    "def remote_line(img,t=0):\n",
    "#     img_gray = cv2.cvtColor(img, cv2.COLOR_BGR2GRAY)\n",
    "    (thresh, img_bin) = cv2.threshold(img_gray, 188, 255, cv2.THRESH_BINARY | cv2.THRESH_OTSU)\n",
    "    img_bin = cv2.bitwise_not(img_bin)\n",
    "    edges = cv2.Canny(img_bin,30,150,apertureSize = 3)\n",
    "    if t == 0:\n",
    "        lines = cv2.HoughLines(edges,1,np.pi/180,250)\n",
    "#         if (lines == None):\n",
    "#             return img_bin\n",
    "        for i in range(len(lines)):\n",
    "            for rho,theta in lines[i]:\n",
    "                a = np.cos(theta)\n",
    "                b = np.sin(theta)\n",
    "                x0 = a*rho\n",
    "                y0 = b*rho\n",
    "                x1 = int(x0 + 1000*(-b))\n",
    "                y1 = int(y0 + 1000*(a))\n",
    "                x2 = int(x0 - 1000*(-b))\n",
    "                y2 = int(y0 - 1000*(a))\n",
    "            cv2.line(img_bin,(x1,y1),(x2,y2),(0,0,0),3)\n",
    "        return img_bin\n",
    "             \n",
    "\n",
    "img_rl = remote_line(img)\n",
    "kernel = np.ones((2,2), np.uint8)\n",
    "img_dilation = cv2.erode(img_rl, kernel, iterations=1)\n",
    "img_dilation = cv2.dilate(img_dilation, kernel, iterations=1)\n",
    "\n",
    "\n",
    "cv2.imshow(\"img4\",img_dilation)\n",
    "cv2.waitKey(0)  \n",
    "\n",
    "kernel = cv2.getStructuringElement(cv2.MORPH_RECT, (15, 8))\n",
    "connected = cv2.morphologyEx(img_dilation, cv2.MORPH_CLOSE, kernel)\n",
    "\n",
    "# cv2.imshow(\"img2\",connected)\n",
    "# cv2.waitKey(0)\n",
    "\n",
    "contours, hierarchy = cv2.findContours(image=connected, mode=cv2.RETR_TREE, method=cv2.CHAIN_APPROX_SIMPLE)\n",
    "\n",
    "(x1,y1,_) = img.shape\n",
    "for contour in contours:\n",
    "    # get rectangle bounding contour\n",
    "    [x,y,w,h] = cv2.boundingRect(contour)\n",
    "\n",
    "#     discard areas that are too large\n",
    "    if h>x1/4 and w>y1/4:\n",
    "        continue\n",
    "\n",
    "    # discard areas that are too small\n",
    "    if h<4 or w<4:\n",
    "        continue\n",
    "\n",
    "    # draw rectangle around contour on original image\n",
    "    cv2.rectangle(img,(x,y),(x+w,y+h),(255,0,0),2)\n",
    "cv2.imshow(\"img2\",img)\n",
    "cv2.waitKey(0)"
   ]
  },
  {
   "cell_type": "code",
   "execution_count": null,
   "id": "e333f8c9",
   "metadata": {},
   "outputs": [],
   "source": []
  },
  {
   "cell_type": "code",
   "execution_count": 170,
   "id": "adacec0f",
   "metadata": {},
   "outputs": [
    {
     "data": {
      "text/plain": [
       "-1"
      ]
     },
     "execution_count": 170,
     "metadata": {},
     "output_type": "execute_result"
    }
   ],
   "source": [
    "import cv2\n",
    "import numpy as np\n",
    "\n",
    "\n",
    "\n",
    "\n",
    "\n",
    "\n",
    "\n",
    "\n",
    "img = cv2.imread(\"forms//49527.png\",0)\n",
    "(thresh, img_bin) = cv2.threshold(img, 188, 255, cv2.THRESH_BINARY | cv2.THRESH_OTSU)\n",
    "img_bin = cv2.bitwise_not(img_bin)\n",
    "kernel = cv2.getStructuringElement(cv2.MORPH_ELLIPSE, (3, 3))\n",
    "grad = cv2.morphologyEx(img_bin, cv2.MORPH_GRADIENT, kernel)\n",
    "edges = cv2.Canny(grad,30,150,apertureSize = 3)\n",
    "\n",
    "def remote_line(img,t=0):\n",
    "    (thresh, img_bin) = cv2.threshold(img, 188, 255, cv2.THRESH_BINARY | cv2.THRESH_OTSU)\n",
    "    img_bin = cv2.bitwise_not(img_bin)\n",
    "    kernel = cv2.getStructuringElement(cv2.MORPH_ELLIPSE, (3, 3))\n",
    "    edges = cv2.morphologyEx(img_bin, cv2.MORPH_GRADIENT, kernel)\n",
    "    if t == 0:\n",
    "        lines = cv2.HoughLines(edges,1,np.pi/180,400)\n",
    "#         if (lines == None):\n",
    "#             return img_bin\n",
    "        for i in range(len(lines)):\n",
    "            for rho,theta in lines[i]:\n",
    "                a = np.cos(theta)\n",
    "                b = np.sin(theta)\n",
    "                x0 = a*rho\n",
    "                y0 = b*rho\n",
    "                x1 = int(x0 + 1000*(-b))\n",
    "                y1 = int(y0 + 1000*(a))\n",
    "                x2 = int(x0 - 1000*(-b))\n",
    "                y2 = int(y0 - 1000*(a))\n",
    "            cv2.line(img_bin,(x1,y1),(x2,y2),(0,0,0),3)\n",
    "        return img_bin\n",
    "\n",
    "\n",
    "# _, bw = cv2.threshold(grad, 0.0, 255.0, cv2.THRESH_BINARY | cv2.THRESH_OTSU)\n",
    "\n",
    "cv2.imshow(\"img2\",remote_line(img))\n",
    "cv2.waitKey(0)"
   ]
  },
  {
   "cell_type": "code",
   "execution_count": 130,
   "id": "24f67a8b",
   "metadata": {},
   "outputs": [
    {
     "data": {
      "text/plain": [
       "(150, 150, 3)"
      ]
     },
     "execution_count": 130,
     "metadata": {},
     "output_type": "execute_result"
    }
   ],
   "source": [
    "img1.shape"
   ]
  },
  {
   "cell_type": "code",
   "execution_count": 147,
   "id": "9fd2f3a7",
   "metadata": {},
   "outputs": [
    {
     "data": {
      "text/plain": [
       "150"
      ]
     },
     "execution_count": 147,
     "metadata": {},
     "output_type": "execute_result"
    }
   ],
   "source": [
    "import cv2\n",
    "import numpy as np\n",
    "\n",
    "img1 = cv2.imread(\"forms//34.png\")\n",
    "x1,y1,_ = img1.shape\n",
    "img = cv2.resize(img1,dsize=[150,150])\n",
    "img_gray = cv2.cvtColor(img, cv2.COLOR_BGR2GRAY)\n",
    "(thresh, img_bin) = cv2.threshold(img_gray, 188, 255, cv2.THRESH_BINARY | cv2.THRESH_OTSU)\n",
    "img_bin = cv2.bitwise_not(img_bin)\n",
    "\n",
    "kernel = np.ones((2,2), np.uint8)\n",
    "img_dilation = cv2.erode(img_bin, kernel, iterations=1)\n",
    "img_dilation = cv2.dilate(img_dilation, kernel, iterations=1)\n",
    "\n",
    "\n",
    "cv2.imshow(\"img4\",img_dilation)\n",
    "cv2.waitKey(0)  \n",
    "\n",
    "kernel = cv2.getStructuringElement(cv2.MORPH_RECT, (20, 3))\n",
    "connected = cv2.morphologyEx(img_dilation, cv2.MORPH_CLOSE, kernel)\n",
    "\n",
    "# cv2.imshow(\"img2\",connected)\n",
    "# cv2.waitKey(0)\n",
    "\n",
    "contours, hierarchy = cv2.findContours(image=connected, mode=cv2.RETR_TREE, method=cv2.CHAIN_APPROX_SIMPLE)\n",
    "\n",
    "max_x = 0\n",
    "max_y = 0\n",
    "min_x = 10000\n",
    "min_y = 10000\n",
    "(x,y,_) = img.shape\n",
    "for i in contours:\n",
    "    for j in range(len(i)):\n",
    "        if i[j][0][0] > max_x:\n",
    "            max_x = i[j][0][0]\n",
    "        if i[j][0][0] < min_x:\n",
    "            min_x = i[j][0][0]\n",
    "        if i[j][0][1] > max_y:\n",
    "            max_y = i[j][0][1]\n",
    "        if i[j][0][1] < min_y:\n",
    "            min_y = i[j][0][1]\n",
    "    if ((max_x-min_x)<2 or (max_y-min_y)<2):\n",
    "        max_x = 0\n",
    "        max_y = 0\n",
    "        min_x = 10000\n",
    "        min_y = 10000\n",
    "        continue\n",
    "    if((max_x-min_x)*(max_y-min_y)/(x*y)>= 0.7):\n",
    "        max_x = 0\n",
    "        max_y = 0\n",
    "        min_x = 10000\n",
    "        min_y = 10000\n",
    "        continue\n",
    "    min_x = int(min_x *(y1/150))\n",
    "    max_x = int(max_x *(y1/150))\n",
    "    min_y = int(min_y *(x1/150))\n",
    "    max_y = int(max_y *(x1/150))\n",
    "    img = cv2.rectangle(img1, (min_x,min_y), (max_x,max_y), [0,255,0], 1)\n",
    "    max_x = 0\n",
    "    max_y = 0\n",
    "    min_x = 10000\n",
    "    min_y = 10000\n",
    "cv2.imshow(\"img2\",img1)\n",
    "cv2.waitKey(0)\n",
    "x"
   ]
  },
  {
   "cell_type": "code",
   "execution_count": 262,
   "id": "e1ebe4ff",
   "metadata": {},
   "outputs": [
    {
     "data": {
      "text/plain": [
       "-1"
      ]
     },
     "execution_count": 262,
     "metadata": {},
     "output_type": "execute_result"
    }
   ],
   "source": [
    "import cv2\n",
    "\n",
    "img = cv2.imread('forms//20.png')\n",
    "image = cv2.imread('forms//20.png')\n",
    "gray = cv2.cvtColor(image, cv2.COLOR_BGR2GRAY)\n",
    "thresh = cv2.threshold(gray, 0, 255, cv2.THRESH_BINARY_INV + cv2.THRESH_OTSU)[1]\n",
    "\n",
    "# Remove horizontal\n",
    "horizontal_kernel = cv2.getStructuringElement(cv2.MORPH_RECT, (25,1))\n",
    "detected_lines = cv2.morphologyEx(thresh, cv2.MORPH_OPEN, horizontal_kernel, iterations=2)\n",
    "\n",
    "cnts = cv2.findContours(detected_lines, cv2.RETR_EXTERNAL, cv2.CHAIN_APPROX_SIMPLE)\n",
    "cnts = cnts[0] if len(cnts) == 2 else cnts[1]\n",
    "for c in cnts:\n",
    "    cv2.drawContours(image, [c], -1, (255,255,255), 2)\n",
    "# Repair image\n",
    "repair_kernel = cv2.getStructuringElement(cv2.MORPH_RECT, (1,6))\n",
    "result = 255 - cv2.morphologyEx(255 - image, cv2.MORPH_CLOSE, repair_kernel, iterations=1)\n",
    "\n",
    "# Remove vertical\n",
    "vertical_kernel = cv2.getStructuringElement(cv2.MORPH_RECT, (1,25))\n",
    "detected_lines = cv2.morphologyEx(thresh, cv2.MORPH_OPEN, vertical_kernel, iterations=2)\n",
    "\n",
    "cnts = cv2.findContours(detected_lines, cv2.RETR_EXTERNAL, cv2.CHAIN_APPROX_SIMPLE)\n",
    "cnts = cnts[0] if len(cnts) == 2 else cnts[1]\n",
    "for c in cnts:\n",
    "    cv2.drawContours(image, [c], -1, (255,255,255), 2)\n",
    "\n",
    "# Repair image\n",
    "repair_kernel = cv2.getStructuringElement(cv2.MORPH_RECT, (1,6))\n",
    "result = 255 - cv2.morphologyEx(255 - image, cv2.MORPH_CLOSE, repair_kernel, iterations=1)\n",
    "\n",
    "# cv2.imshow('thresh', thresh)\n",
    "# cv2.imshow('image', image)\n",
    "# cv2.imshow('result', result)\n",
    "# cv2.waitKey()\n",
    "\n",
    "img_gray = cv2.cvtColor(image, cv2.COLOR_BGR2GRAY)\n",
    "(thresh, img_bin) = cv2.threshold(img_gray, 188, 255, cv2.THRESH_BINARY | cv2.THRESH_OTSU)\n",
    "img_bin = cv2.bitwise_not(img_bin)\n",
    "\n",
    "# kernel = np.ones((3,3), np.uint8)\n",
    "# img_dilation = cv2.dilate(img_bin, kernel, iterations=1)\n",
    "# img_dilation = cv2.erode(img_dilation, kernel, iterations=1)\n",
    "\n",
    "\n",
    "kernel = cv2.getStructuringElement(cv2.MORPH_RECT, (10,8))\n",
    "connected = cv2.morphologyEx(img_bin, cv2.MORPH_CLOSE, kernel)\n",
    "\n",
    "# cv2.imshow(\"img2\",connected)\n",
    "# cv2.waitKey(0)\n",
    "\n",
    "contours, hierarchy = cv2.findContours(image=connected, mode=cv2.RETR_TREE, method=cv2.CHAIN_APPROX_SIMPLE)\n",
    "\n",
    "(x1,y1,_) = img.shape\n",
    "for contour in contours:\n",
    "    # get rectangle bounding contour\n",
    "    [x,y,w,h] = cv2.boundingRect(contour)\n",
    "\n",
    "#     discard areas that are too large\n",
    "#     if h>x1/4 and w>y1/4:\n",
    "#         continue\n",
    "\n",
    "    # discard areas that are too small\n",
    "    if h<4 or w<4:\n",
    "        continue\n",
    "\n",
    "    # draw rectangle around contour on original image\n",
    "    cv2.rectangle(img,(x,y),(x+w,y+h),(255,0,0),2)\n",
    "cv2.imshow(\"img2\",img)\n",
    "cv2.waitKey(0)"
   ]
  },
  {
   "cell_type": "code",
   "execution_count": null,
   "id": "b4d879b9",
   "metadata": {},
   "outputs": [],
   "source": []
  },
  {
   "cell_type": "code",
   "execution_count": null,
   "id": "85f5123d",
   "metadata": {},
   "outputs": [],
   "source": []
  }
 ],
 "metadata": {
  "kernelspec": {
   "display_name": "Python 3",
   "language": "python",
   "name": "python3"
  },
  "language_info": {
   "codemirror_mode": {
    "name": "ipython",
    "version": 3
   },
   "file_extension": ".py",
   "mimetype": "text/x-python",
   "name": "python",
   "nbconvert_exporter": "python",
   "pygments_lexer": "ipython3",
   "version": "3.7.10"
  }
 },
 "nbformat": 4,
 "nbformat_minor": 5
}
